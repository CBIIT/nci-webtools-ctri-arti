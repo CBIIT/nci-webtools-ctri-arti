{
  "metadata": {
    "kernelspec": {
      "name": "python",
      "display_name": "Python (Pyodide)",
      "language": "python"
    },
    "language_info": {
      "codemirror_mode": {
        "name": "python",
        "version": 3
      },
      "file_extension": ".py",
      "mimetype": "text/x-python",
      "name": "python",
      "nbconvert_exporter": "python",
      "pygments_lexer": "ipython3",
      "version": "3.8"
    }
  },
  "nbformat_minor": 5,
  "nbformat": 4,
  "cells": [
    {
      "id": "d1cc6b9f-46ee-4033-ad6f-e06141794a07",
      "cell_type": "code",
      "source": "%pip install -q prince",
      "metadata": {
        "trusted": true
      },
      "outputs": [],
      "execution_count": 1
    },
    {
      "id": "3a4a08e1-f7d8-407c-b103-0ae4c76b773c",
      "cell_type": "code",
      "source": "import prince\n\ndataset = prince.datasets.load_energy_mix(year=2019, normalize=True)\ndataset.head().style.format('{:.0%}')",
      "metadata": {
        "trusted": true
      },
      "outputs": [
        {
          "execution_count": 2,
          "output_type": "execute_result",
          "data": {
            "text/plain": "<pandas.io.formats.style.Styler at 0x9073ef8>",
            "text/html": "<style type=\"text/css\">\n</style>\n<table id=\"T_18c64\">\n  <thead>\n    <tr>\n      <th class=\"blank\" >&nbsp;</th>\n      <th class=\"blank level0\" >&nbsp;</th>\n      <th id=\"T_18c64_level0_col0\" class=\"col_heading level0 col0\" >coal</th>\n      <th id=\"T_18c64_level0_col1\" class=\"col_heading level0 col1\" >oil</th>\n      <th id=\"T_18c64_level0_col2\" class=\"col_heading level0 col2\" >gas</th>\n      <th id=\"T_18c64_level0_col3\" class=\"col_heading level0 col3\" >nuclear</th>\n      <th id=\"T_18c64_level0_col4\" class=\"col_heading level0 col4\" >hydro</th>\n      <th id=\"T_18c64_level0_col5\" class=\"col_heading level0 col5\" >wind</th>\n      <th id=\"T_18c64_level0_col6\" class=\"col_heading level0 col6\" >solar</th>\n      <th id=\"T_18c64_level0_col7\" class=\"col_heading level0 col7\" >other renewables</th>\n    </tr>\n    <tr>\n      <th class=\"index_name level0\" >continent</th>\n      <th class=\"index_name level1\" >country</th>\n      <th class=\"blank col0\" >&nbsp;</th>\n      <th class=\"blank col1\" >&nbsp;</th>\n      <th class=\"blank col2\" >&nbsp;</th>\n      <th class=\"blank col3\" >&nbsp;</th>\n      <th class=\"blank col4\" >&nbsp;</th>\n      <th class=\"blank col5\" >&nbsp;</th>\n      <th class=\"blank col6\" >&nbsp;</th>\n      <th class=\"blank col7\" >&nbsp;</th>\n    </tr>\n  </thead>\n  <tbody>\n    <tr>\n      <th id=\"T_18c64_level0_row0\" class=\"row_heading level0 row0\" >Africa</th>\n      <th id=\"T_18c64_level1_row0\" class=\"row_heading level1 row0\" >Algeria</th>\n      <td id=\"T_18c64_row0_col0\" class=\"data row0 col0\" >1%</td>\n      <td id=\"T_18c64_row0_col1\" class=\"data row0 col1\" >35%</td>\n      <td id=\"T_18c64_row0_col2\" class=\"data row0 col2\" >64%</td>\n      <td id=\"T_18c64_row0_col3\" class=\"data row0 col3\" >0%</td>\n      <td id=\"T_18c64_row0_col4\" class=\"data row0 col4\" >0%</td>\n      <td id=\"T_18c64_row0_col5\" class=\"data row0 col5\" >0%</td>\n      <td id=\"T_18c64_row0_col6\" class=\"data row0 col6\" >0%</td>\n      <td id=\"T_18c64_row0_col7\" class=\"data row0 col7\" >0%</td>\n    </tr>\n    <tr>\n      <th id=\"T_18c64_level0_row1\" class=\"row_heading level0 row1\" >South America</th>\n      <th id=\"T_18c64_level1_row1\" class=\"row_heading level1 row1\" >Argentina</th>\n      <td id=\"T_18c64_row1_col0\" class=\"data row1 col0\" >1%</td>\n      <td id=\"T_18c64_row1_col1\" class=\"data row1 col1\" >35%</td>\n      <td id=\"T_18c64_row1_col2\" class=\"data row1 col2\" >50%</td>\n      <td id=\"T_18c64_row1_col3\" class=\"data row1 col3\" >2%</td>\n      <td id=\"T_18c64_row1_col4\" class=\"data row1 col4\" >10%</td>\n      <td id=\"T_18c64_row1_col5\" class=\"data row1 col5\" >1%</td>\n      <td id=\"T_18c64_row1_col6\" class=\"data row1 col6\" >0%</td>\n      <td id=\"T_18c64_row1_col7\" class=\"data row1 col7\" >1%</td>\n    </tr>\n    <tr>\n      <th id=\"T_18c64_level0_row2\" class=\"row_heading level0 row2\" >Oceania</th>\n      <th id=\"T_18c64_level1_row2\" class=\"row_heading level1 row2\" >Australia</th>\n      <td id=\"T_18c64_row2_col0\" class=\"data row2 col0\" >28%</td>\n      <td id=\"T_18c64_row2_col1\" class=\"data row2 col1\" >34%</td>\n      <td id=\"T_18c64_row2_col2\" class=\"data row2 col2\" >30%</td>\n      <td id=\"T_18c64_row2_col3\" class=\"data row2 col3\" >0%</td>\n      <td id=\"T_18c64_row2_col4\" class=\"data row2 col4\" >2%</td>\n      <td id=\"T_18c64_row2_col5\" class=\"data row2 col5\" >3%</td>\n      <td id=\"T_18c64_row2_col6\" class=\"data row2 col6\" >3%</td>\n      <td id=\"T_18c64_row2_col7\" class=\"data row2 col7\" >1%</td>\n    </tr>\n    <tr>\n      <th id=\"T_18c64_level0_row3\" class=\"row_heading level0 row3\" >Europe</th>\n      <th id=\"T_18c64_level1_row3\" class=\"row_heading level1 row3\" >Austria</th>\n      <td id=\"T_18c64_row3_col0\" class=\"data row3 col0\" >9%</td>\n      <td id=\"T_18c64_row3_col1\" class=\"data row3 col1\" >37%</td>\n      <td id=\"T_18c64_row3_col2\" class=\"data row3 col2\" >22%</td>\n      <td id=\"T_18c64_row3_col3\" class=\"data row3 col3\" >0%</td>\n      <td id=\"T_18c64_row3_col4\" class=\"data row3 col4\" >25%</td>\n      <td id=\"T_18c64_row3_col5\" class=\"data row3 col5\" >4%</td>\n      <td id=\"T_18c64_row3_col6\" class=\"data row3 col6\" >1%</td>\n      <td id=\"T_18c64_row3_col7\" class=\"data row3 col7\" >3%</td>\n    </tr>\n    <tr>\n      <th id=\"T_18c64_level0_row4\" class=\"row_heading level0 row4\" >Asia</th>\n      <th id=\"T_18c64_level1_row4\" class=\"row_heading level1 row4\" >Azerbaijan</th>\n      <td id=\"T_18c64_row4_col0\" class=\"data row4 col0\" >0%</td>\n      <td id=\"T_18c64_row4_col1\" class=\"data row4 col1\" >33%</td>\n      <td id=\"T_18c64_row4_col2\" class=\"data row4 col2\" >65%</td>\n      <td id=\"T_18c64_row4_col3\" class=\"data row4 col3\" >0%</td>\n      <td id=\"T_18c64_row4_col4\" class=\"data row4 col4\" >2%</td>\n      <td id=\"T_18c64_row4_col5\" class=\"data row4 col5\" >0%</td>\n      <td id=\"T_18c64_row4_col6\" class=\"data row4 col6\" >0%</td>\n      <td id=\"T_18c64_row4_col7\" class=\"data row4 col7\" >0%</td>\n    </tr>\n  </tbody>\n</table>\n"
          },
          "metadata": {}
        }
      ],
      "execution_count": 2
    },
    {
      "id": "21a17dbe-94db-4af1-bf37-b7052f52d443",
      "cell_type": "code",
      "source": "pca = prince.PCA(\n    n_components=3,\n    n_iter=3,\n    rescale_with_mean=True,\n    rescale_with_std=True,\n    copy=True,\n    check_input=True,\n    engine='sklearn',\n    random_state=42\n)\npca = pca.fit(\n    dataset,\n    sample_weight=None,\n    column_weight=None,\n    supplementary_columns=None\n)\npca.eigenvalues_summary",
      "metadata": {
        "trusted": true
      },
      "outputs": [
        {
          "execution_count": 5,
          "output_type": "execute_result",
          "data": {
            "text/plain": "          eigenvalue % of variance % of variance (cumulative)\ncomponent                                                    \n0              1.963        24.54%                     24.54%\n1              1.561        19.51%                     44.05%\n2              1.403        17.54%                     61.59%",
            "text/html": "<div>\n<style scoped>\n    .dataframe tbody tr th:only-of-type {\n        vertical-align: middle;\n    }\n\n    .dataframe tbody tr th {\n        vertical-align: top;\n    }\n\n    .dataframe thead th {\n        text-align: right;\n    }\n</style>\n<table border=\"1\" class=\"dataframe\">\n  <thead>\n    <tr style=\"text-align: right;\">\n      <th></th>\n      <th>eigenvalue</th>\n      <th>% of variance</th>\n      <th>% of variance (cumulative)</th>\n    </tr>\n    <tr>\n      <th>component</th>\n      <th></th>\n      <th></th>\n      <th></th>\n    </tr>\n  </thead>\n  <tbody>\n    <tr>\n      <th>0</th>\n      <td>1.963</td>\n      <td>24.54%</td>\n      <td>24.54%</td>\n    </tr>\n    <tr>\n      <th>1</th>\n      <td>1.561</td>\n      <td>19.51%</td>\n      <td>44.05%</td>\n    </tr>\n    <tr>\n      <th>2</th>\n      <td>1.403</td>\n      <td>17.54%</td>\n      <td>61.59%</td>\n    </tr>\n  </tbody>\n</table>\n</div>"
          },
          "metadata": {}
        }
      ],
      "execution_count": 5
    },
    {
      "id": "99826480-3ac5-4196-ae57-1d9b1b6df744",
      "cell_type": "code",
      "source": "pca.eigenvalues_",
      "metadata": {
        "trusted": true
      },
      "outputs": [
        {
          "execution_count": 8,
          "output_type": "execute_result",
          "data": {
            "text/plain": "array([1.96301214, 1.56069986, 1.40327823])"
          },
          "metadata": {}
        }
      ],
      "execution_count": 8
    },
    {
      "id": "ae5baae6-22a0-4b23-a216-e7cbc27b0a7e",
      "cell_type": "code",
      "source": "pca.percentage_of_variance_",
      "metadata": {
        "trusted": true
      },
      "outputs": [
        {
          "execution_count": 9,
          "output_type": "execute_result",
          "data": {
            "text/plain": "array([24.5376518 , 19.50874822, 17.54097785])"
          },
          "metadata": {}
        }
      ],
      "execution_count": 9
    },
    {
      "id": "8889f04c-66d5-4ce4-952c-2e4aaf316499",
      "cell_type": "code",
      "source": "pca.cumulative_percentage_of_variance_",
      "metadata": {
        "trusted": true
      },
      "outputs": [
        {
          "execution_count": 10,
          "output_type": "execute_result",
          "data": {
            "text/plain": "array([24.5376518 , 44.04640003, 61.58737788])"
          },
          "metadata": {}
        }
      ],
      "execution_count": 10
    },
    {
      "id": "51dc4593-233d-4c48-b542-6804285ffc0f",
      "cell_type": "code",
      "source": "pca.scree_plot()",
      "metadata": {
        "trusted": true
      },
      "outputs": [
        {
          "execution_count": 12,
          "output_type": "execute_result",
          "data": {
            "text/html": "\n<style>\n  #altair-viz-2538afe837d24d22bf32135995278e5e.vega-embed {\n    width: 100%;\n    display: flex;\n  }\n\n  #altair-viz-2538afe837d24d22bf32135995278e5e.vega-embed details,\n  #altair-viz-2538afe837d24d22bf32135995278e5e.vega-embed details summary {\n    position: relative;\n  }\n</style>\n<div id=\"altair-viz-2538afe837d24d22bf32135995278e5e\"></div>\n<script type=\"text/javascript\">\n  var VEGA_DEBUG = (typeof VEGA_DEBUG == \"undefined\") ? {} : VEGA_DEBUG;\n  (function(spec, embedOpt){\n    let outputDiv = document.currentScript.previousElementSibling;\n    if (outputDiv.id !== \"altair-viz-2538afe837d24d22bf32135995278e5e\") {\n      outputDiv = document.getElementById(\"altair-viz-2538afe837d24d22bf32135995278e5e\");\n    }\n    const paths = {\n      \"vega\": \"https://cdn.jsdelivr.net/npm/vega@5?noext\",\n      \"vega-lib\": \"https://cdn.jsdelivr.net/npm/vega-lib?noext\",\n      \"vega-lite\": \"https://cdn.jsdelivr.net/npm/vega-lite@5.20.1?noext\",\n      \"vega-embed\": \"https://cdn.jsdelivr.net/npm/vega-embed@6?noext\",\n    };\n\n    function maybeLoadScript(lib, version) {\n      var key = `${lib.replace(\"-\", \"\")}_version`;\n      return (VEGA_DEBUG[key] == version) ?\n        Promise.resolve(paths[lib]) :\n        new Promise(function(resolve, reject) {\n          var s = document.createElement('script');\n          document.getElementsByTagName(\"head\")[0].appendChild(s);\n          s.async = true;\n          s.onload = () => {\n            VEGA_DEBUG[key] = version;\n            return resolve(paths[lib]);\n          };\n          s.onerror = () => reject(`Error loading script: ${paths[lib]}`);\n          s.src = paths[lib];\n        });\n    }\n\n    function showError(err) {\n      outputDiv.innerHTML = `<div class=\"error\" style=\"color:red;\">${err}</div>`;\n      throw err;\n    }\n\n    function displayChart(vegaEmbed) {\n      vegaEmbed(outputDiv, spec, embedOpt)\n        .catch(err => showError(`Javascript Error: ${err.message}<br>This usually means there's a typo in your chart specification. See the javascript console for the full traceback.`));\n    }\n\n    if(typeof define === \"function\" && define.amd) {\n      requirejs.config({paths});\n      require([\"vega-embed\"], displayChart, err => showError(`Error loading script: ${err.message}`));\n    } else {\n      maybeLoadScript(\"vega\", \"5\")\n        .then(() => maybeLoadScript(\"vega-lite\", \"5.20.1\"))\n        .then(() => maybeLoadScript(\"vega-embed\", \"6\"))\n        .catch(showError)\n        .then(() => displayChart(vegaEmbed));\n    }\n  })({\"config\": {\"view\": {\"continuousWidth\": 300, \"continuousHeight\": 300}}, \"data\": {\"name\": \"data-7df0d7723ef22381e007fa1c6cbfef56\"}, \"mark\": {\"type\": \"bar\", \"size\": 10}, \"encoding\": {\"tooltip\": [{\"field\": \"component\", \"type\": \"nominal\"}, {\"field\": \"eigenvalue\", \"type\": \"quantitative\"}, {\"field\": \"% of variance\", \"type\": \"quantitative\"}, {\"field\": \"% of variance (cumulative)\", \"type\": \"quantitative\"}], \"x\": {\"field\": \"component\", \"type\": \"nominal\"}, \"y\": {\"field\": \"eigenvalue\", \"type\": \"quantitative\"}}, \"$schema\": \"https://vega.github.io/schema/vega-lite/v5.20.1.json\", \"datasets\": {\"data-7df0d7723ef22381e007fa1c6cbfef56\": [{\"component\": \"0\", \"eigenvalue\": 1.9630121441911244, \"% of variance\": 24.53765180238906, \"% of variance (cumulative)\": 24.53765180238906}, {\"component\": \"1\", \"eigenvalue\": 1.5606998579915585, \"% of variance\": 19.508748224894486, \"% of variance (cumulative)\": 44.046400027283546}, {\"component\": \"2\", \"eigenvalue\": 1.4032782280687068, \"% of variance\": 17.540977850858837, \"% of variance (cumulative)\": 61.587377878142384}]}}, {\"mode\": \"vega-lite\"});\n</script>",
            "text/plain": "alt.Chart(...)"
          },
          "metadata": {}
        }
      ],
      "execution_count": 12
    },
    {
      "id": "fd129bdc-e111-4029-9674-f2c224fe9267",
      "cell_type": "code",
      "source": "pca.transform(dataset).head()",
      "metadata": {
        "trusted": true
      },
      "outputs": [
        {
          "execution_count": 13,
          "output_type": "execute_result",
          "data": {
            "text/plain": "component                        0         1         2\ncontinent     country                                 \nAfrica        Algeria    -2.189068  0.380243 -0.388572\nSouth America Argentina  -1.244981  0.801917 -0.389456\nOceania       Australia   0.203969 -1.470254  0.531819\nEurope        Austria     0.847122  1.008296 -0.521998\nAsia          Azerbaijan -2.190535  0.632250 -0.365515",
            "text/html": "<div>\n<style scoped>\n    .dataframe tbody tr th:only-of-type {\n        vertical-align: middle;\n    }\n\n    .dataframe tbody tr th {\n        vertical-align: top;\n    }\n\n    .dataframe thead th {\n        text-align: right;\n    }\n</style>\n<table border=\"1\" class=\"dataframe\">\n  <thead>\n    <tr style=\"text-align: right;\">\n      <th></th>\n      <th>component</th>\n      <th>0</th>\n      <th>1</th>\n      <th>2</th>\n    </tr>\n    <tr>\n      <th>continent</th>\n      <th>country</th>\n      <th></th>\n      <th></th>\n      <th></th>\n    </tr>\n  </thead>\n  <tbody>\n    <tr>\n      <th>Africa</th>\n      <th>Algeria</th>\n      <td>-2.189068</td>\n      <td>0.380243</td>\n      <td>-0.388572</td>\n    </tr>\n    <tr>\n      <th>South America</th>\n      <th>Argentina</th>\n      <td>-1.244981</td>\n      <td>0.801917</td>\n      <td>-0.389456</td>\n    </tr>\n    <tr>\n      <th>Oceania</th>\n      <th>Australia</th>\n      <td>0.203969</td>\n      <td>-1.470254</td>\n      <td>0.531819</td>\n    </tr>\n    <tr>\n      <th>Europe</th>\n      <th>Austria</th>\n      <td>0.847122</td>\n      <td>1.008296</td>\n      <td>-0.521998</td>\n    </tr>\n    <tr>\n      <th>Asia</th>\n      <th>Azerbaijan</th>\n      <td>-2.190535</td>\n      <td>0.632250</td>\n      <td>-0.365515</td>\n    </tr>\n  </tbody>\n</table>\n</div>"
          },
          "metadata": {}
        }
      ],
      "execution_count": 13
    },
    {
      "id": "c1bbbf13-3204-446d-a046-601cfa8d8132",
      "cell_type": "code",
      "source": "pca.transform(dataset).equals(pca.row_coordinates(dataset))",
      "metadata": {
        "trusted": true
      },
      "outputs": [
        {
          "execution_count": 14,
          "output_type": "execute_result",
          "data": {
            "text/plain": "True"
          },
          "metadata": {}
        }
      ],
      "execution_count": 14
    },
    {
      "id": "af196ac1-3d9e-4a45-a7fc-2787cc4b57c7",
      "cell_type": "code",
      "source": "pca.column_coordinates_",
      "metadata": {
        "trusted": true
      },
      "outputs": [
        {
          "execution_count": 15,
          "output_type": "execute_result",
          "data": {
            "text/plain": "component                0         1         2\nvariable                                      \ncoal              0.230205 -0.395474  0.740748\noil               0.176200 -0.418917 -0.737855\ngas              -0.866927  0.182990 -0.096857\nnuclear           0.310313 -0.002598  0.400608\nhydro             0.440383  0.744815 -0.016375\nwind              0.518712 -0.161507 -0.364593\nsolar             0.415677 -0.589288  0.001012\nother renewables  0.628750  0.516935 -0.084114",
            "text/html": "<div>\n<style scoped>\n    .dataframe tbody tr th:only-of-type {\n        vertical-align: middle;\n    }\n\n    .dataframe tbody tr th {\n        vertical-align: top;\n    }\n\n    .dataframe thead th {\n        text-align: right;\n    }\n</style>\n<table border=\"1\" class=\"dataframe\">\n  <thead>\n    <tr style=\"text-align: right;\">\n      <th>component</th>\n      <th>0</th>\n      <th>1</th>\n      <th>2</th>\n    </tr>\n    <tr>\n      <th>variable</th>\n      <th></th>\n      <th></th>\n      <th></th>\n    </tr>\n  </thead>\n  <tbody>\n    <tr>\n      <th>coal</th>\n      <td>0.230205</td>\n      <td>-0.395474</td>\n      <td>0.740748</td>\n    </tr>\n    <tr>\n      <th>oil</th>\n      <td>0.176200</td>\n      <td>-0.418917</td>\n      <td>-0.737855</td>\n    </tr>\n    <tr>\n      <th>gas</th>\n      <td>-0.866927</td>\n      <td>0.182990</td>\n      <td>-0.096857</td>\n    </tr>\n    <tr>\n      <th>nuclear</th>\n      <td>0.310313</td>\n      <td>-0.002598</td>\n      <td>0.400608</td>\n    </tr>\n    <tr>\n      <th>hydro</th>\n      <td>0.440383</td>\n      <td>0.744815</td>\n      <td>-0.016375</td>\n    </tr>\n    <tr>\n      <th>wind</th>\n      <td>0.518712</td>\n      <td>-0.161507</td>\n      <td>-0.364593</td>\n    </tr>\n    <tr>\n      <th>solar</th>\n      <td>0.415677</td>\n      <td>-0.589288</td>\n      <td>0.001012</td>\n    </tr>\n    <tr>\n      <th>other renewables</th>\n      <td>0.628750</td>\n      <td>0.516935</td>\n      <td>-0.084114</td>\n    </tr>\n  </tbody>\n</table>\n</div>"
          },
          "metadata": {}
        }
      ],
      "execution_count": 15
    },
    {
      "id": "8aa07dc3-3f2c-4684-8802-237c3f55f229",
      "cell_type": "code",
      "source": "pca.plot(\n    dataset,\n    x_component=0,\n    y_component=1,\n    color_rows_by='continent',\n    show_row_markers=True,\n    show_column_markers=True,\n    show_row_labels=False,\n    row_labels_column=None,  # for DataFrames with a MultiIndex\n    show_column_labels=False\n)",
      "metadata": {
        "trusted": true
      },
      "outputs": [
        {
          "execution_count": 16,
          "output_type": "execute_result",
          "data": {
            "text/html": "\n<style>\n  #altair-viz-0b2bbd95c4344ecbb148c7c15adc4e09.vega-embed {\n    width: 100%;\n    display: flex;\n  }\n\n  #altair-viz-0b2bbd95c4344ecbb148c7c15adc4e09.vega-embed details,\n  #altair-viz-0b2bbd95c4344ecbb148c7c15adc4e09.vega-embed details summary {\n    position: relative;\n  }\n</style>\n<div id=\"altair-viz-0b2bbd95c4344ecbb148c7c15adc4e09\"></div>\n<script type=\"text/javascript\">\n  var VEGA_DEBUG = (typeof VEGA_DEBUG == \"undefined\") ? {} : VEGA_DEBUG;\n  (function(spec, embedOpt){\n    let outputDiv = document.currentScript.previousElementSibling;\n    if (outputDiv.id !== \"altair-viz-0b2bbd95c4344ecbb148c7c15adc4e09\") {\n      outputDiv = document.getElementById(\"altair-viz-0b2bbd95c4344ecbb148c7c15adc4e09\");\n    }\n    const paths = {\n      \"vega\": \"https://cdn.jsdelivr.net/npm/vega@5?noext\",\n      \"vega-lib\": \"https://cdn.jsdelivr.net/npm/vega-lib?noext\",\n      \"vega-lite\": \"https://cdn.jsdelivr.net/npm/vega-lite@5.20.1?noext\",\n      \"vega-embed\": \"https://cdn.jsdelivr.net/npm/vega-embed@6?noext\",\n    };\n\n    function maybeLoadScript(lib, version) {\n      var key = `${lib.replace(\"-\", \"\")}_version`;\n      return (VEGA_DEBUG[key] == version) ?\n        Promise.resolve(paths[lib]) :\n        new Promise(function(resolve, reject) {\n          var s = document.createElement('script');\n          document.getElementsByTagName(\"head\")[0].appendChild(s);\n          s.async = true;\n          s.onload = () => {\n            VEGA_DEBUG[key] = version;\n            return resolve(paths[lib]);\n          };\n          s.onerror = () => reject(`Error loading script: ${paths[lib]}`);\n          s.src = paths[lib];\n        });\n    }\n\n    function showError(err) {\n      outputDiv.innerHTML = `<div class=\"error\" style=\"color:red;\">${err}</div>`;\n      throw err;\n    }\n\n    function displayChart(vegaEmbed) {\n      vegaEmbed(outputDiv, spec, embedOpt)\n        .catch(err => showError(`Javascript Error: ${err.message}<br>This usually means there's a typo in your chart specification. See the javascript console for the full traceback.`));\n    }\n\n    if(typeof define === \"function\" && define.amd) {\n      requirejs.config({paths});\n      require([\"vega-embed\"], displayChart, err => showError(`Error loading script: ${err.message}`));\n    } else {\n      maybeLoadScript(\"vega\", \"5\")\n        .then(() => maybeLoadScript(\"vega-lite\", \"5.20.1\"))\n        .then(() => maybeLoadScript(\"vega-embed\", \"6\"))\n        .catch(showError)\n        .then(() => displayChart(vegaEmbed));\n    }\n  })({\"config\": {\"view\": {\"continuousWidth\": 300, \"continuousHeight\": 300}}, \"layer\": [{\"data\": {\"name\": \"data-25464783d28700293693b415bfc64dc1\"}, \"mark\": {\"type\": \"circle\", \"size\": 50}, \"encoding\": {\"color\": {\"field\": \"continent\", \"type\": \"nominal\"}, \"tooltip\": [{\"field\": \"continent\", \"type\": \"nominal\"}, {\"field\": \"country\", \"type\": \"nominal\"}, {\"field\": \"component 0\", \"type\": \"quantitative\"}, {\"field\": \"component 1\", \"type\": \"quantitative\"}], \"x\": {\"axis\": {\"title\": \"component 0 \\u2014 24.54%\"}, \"field\": \"component 0\", \"scale\": {\"zero\": false}, \"type\": \"quantitative\"}, \"y\": {\"axis\": {\"title\": \"component 1 \\u2014 19.51%\"}, \"field\": \"component 1\", \"scale\": {\"zero\": false}, \"type\": \"quantitative\"}}, \"name\": \"view_1\"}, {\"data\": {\"name\": \"data-007e18150987616e356800b1c09ba319\"}, \"mark\": {\"type\": \"square\", \"color\": \"green\", \"size\": 50}, \"encoding\": {\"tooltip\": [{\"field\": \"variable\", \"type\": \"nominal\"}], \"x\": {\"field\": \"component 0\", \"scale\": {\"zero\": false}, \"type\": \"quantitative\"}, \"y\": {\"field\": \"component 1\", \"scale\": {\"zero\": false}, \"type\": \"quantitative\"}}}], \"params\": [{\"name\": \"param_1\", \"select\": {\"type\": \"interval\", \"encodings\": [\"x\", \"y\"]}, \"bind\": \"scales\", \"views\": [\"view_1\"]}], \"$schema\": \"https://vega.github.io/schema/vega-lite/v5.20.1.json\", \"datasets\": {\"data-25464783d28700293693b415bfc64dc1\": [{\"continent\": \"Africa\", \"country\": \"Algeria\", \"component 0\": -2.1890683235018242, \"component 1\": 0.38024308458337586, \"component 2\": -0.38857200885287857, \"label\": \"Africa\"}, {\"continent\": \"South America\", \"country\": \"Argentina\", \"component 0\": -1.2449809136844574, \"component 1\": 0.8019170914196349, \"component 2\": -0.3894555350426222, \"label\": \"South America\"}, {\"continent\": \"Oceania\", \"country\": \"Australia\", \"component 0\": 0.20396903697830418, \"component 1\": -1.4702539632688727, \"component 2\": 0.5318189014543396, \"label\": \"Oceania\"}, {\"continent\": \"Europe\", \"country\": \"Austria\", \"component 0\": 0.8471216351969443, \"component 1\": 1.0082962135958784, \"component 2\": -0.5219975517003517, \"label\": \"Europe\"}, {\"continent\": \"Asia\", \"country\": \"Azerbaijan\", \"component 0\": -2.1905347892767004, \"component 1\": 0.6322502201648053, \"component 2\": -0.36551526113793725, \"label\": \"Asia\"}, {\"continent\": \"Asia\", \"country\": \"Bangladesh\", \"component 0\": -2.397127008630402, \"component 1\": 0.5978805199941811, \"component 2\": 0.40469847963658534, \"label\": \"Asia\"}, {\"continent\": \"Europe\", \"country\": \"Belarus\", \"component 0\": -2.2490126966151567, \"component 1\": 0.5130378176751451, \"component 2\": -0.11468609899301713, \"label\": \"Europe\"}, {\"continent\": \"Europe\", \"country\": \"Belgium\", \"component 0\": 0.5129552509797409, \"component 1\": -0.7918525399485179, \"component 2\": -0.40080513356150627, \"label\": \"Europe\"}, {\"continent\": \"South America\", \"country\": \"Brazil\", \"component 0\": 1.4326021939468985, \"component 1\": 1.6174697914842986, \"component 2\": -0.7258786903436263, \"label\": \"South America\"}, {\"continent\": \"Europe\", \"country\": \"Bulgaria\", \"component 0\": 1.1854225672961276, \"component 1\": -1.0657556131268402, \"component 2\": 1.7702403719829216, \"label\": \"Europe\"}, {\"continent\": \"North America\", \"country\": \"Canada\", \"component 0\": -0.049356119382546276, \"component 1\": 1.33145168168409, \"component 2\": 0.018472770393797015, \"label\": \"North America\"}, {\"continent\": \"South America\", \"country\": \"Chile\", \"component 0\": 1.8701488621321503, \"component 1\": -1.0171233793722612, \"component 2\": -0.4074232445136727, \"label\": \"South America\"}, {\"continent\": \"Asia\", \"country\": \"China\", \"component 0\": 0.8976977193613291, \"component 1\": -0.9862977117676199, \"component 2\": 2.3639948820355334, \"label\": \"Asia\"}, {\"continent\": \"South America\", \"country\": \"Colombia\", \"component 0\": -0.2154695361795983, \"component 1\": 1.2353495946295219, \"component 2\": 0.1062052315031384, \"label\": \"South America\"}, {\"continent\": \"Europe\", \"country\": \"Croatia\", \"component 0\": -0.026051450970711126, \"component 1\": 0.8354359363062084, \"component 2\": -0.7742553973185146, \"label\": \"Europe\"}, {\"continent\": \"Asia\", \"country\": \"Cyprus\", \"component 0\": 0.8687868577482081, \"component 1\": -2.0896588295438283, \"component 2\": -2.695608316196052, \"label\": \"Asia\"}, {\"continent\": \"Europe\", \"country\": \"Czechia\", \"component 0\": 0.6274389636722544, \"component 1\": -0.5459233709324791, \"component 2\": 2.0710095079373074, \"label\": \"Europe\"}, {\"continent\": \"Europe\", \"country\": \"Denmark\", \"component 0\": 3.0954896363993356, \"component 1\": -0.6040755184733501, \"component 2\": -2.6028563866193823, \"label\": \"Europe\"}, {\"continent\": \"South America\", \"country\": \"Ecuador\", \"component 0\": 0.6808765946846744, \"component 1\": 0.8603121903708689, \"component 2\": -1.482175066844895, \"label\": \"South America\"}, {\"continent\": \"Africa\", \"country\": \"Egypt\", \"component 0\": -1.516634043671019, \"component 1\": 0.009928284038979357, \"component 2\": -0.5178544939343198, \"label\": \"Africa\"}, {\"continent\": \"Europe\", \"country\": \"Estonia\", \"component 0\": 0.8785647112733627, \"component 1\": -0.5073678406599458, \"component 2\": 1.9729502959633272, \"label\": \"Europe\"}, {\"continent\": \"Europe\", \"country\": \"Finland\", \"component 0\": 2.2908229727338494, \"component 1\": 1.3361049807594245, \"component 2\": 0.441281922344488, \"label\": \"Europe\"}, {\"continent\": \"Europe\", \"country\": \"France\", \"component 0\": 1.1767243389168736, \"component 1\": -0.15904669014178102, \"component 2\": 1.3000451899880219, \"label\": \"Europe\"}, {\"continent\": \"Europe\", \"country\": \"Germany\", \"component 0\": 1.6987226706793916, \"component 1\": -1.624446294786519, \"component 2\": -0.27013965709610693, \"label\": \"Europe\"}, {\"continent\": \"Europe\", \"country\": \"Greece\", \"component 0\": 1.1641812187144178, \"component 1\": -2.1959917702995506, \"component 2\": -1.2614847487094312, \"label\": \"Europe\"}, {\"continent\": \"Asia\", \"country\": \"Hong Kong\", \"component 0\": -0.18207387572526496, \"component 1\": -0.9960252506516397, \"component 2\": -0.8216993717345319, \"label\": \"Asia\"}, {\"continent\": \"Europe\", \"country\": \"Hungary\", \"component 0\": -0.17172022935545264, \"component 1\": -0.3171973578018994, \"component 2\": 0.4412107040751198, \"label\": \"Europe\"}, {\"continent\": \"Europe\", \"country\": \"Iceland\", \"component 0\": 4.261623746019536, \"component 1\": 6.181965785949945, \"component 2\": -0.049447377417992266, \"label\": \"Europe\"}, {\"continent\": \"Asia\", \"country\": \"India\", \"component 0\": 0.7067920410516968, \"component 1\": -1.2084451380419656, \"component 2\": 1.8921935429102312, \"label\": \"Asia\"}, {\"continent\": \"Asia\", \"country\": \"Indonesia\", \"component 0\": -0.2533970158574271, \"component 1\": -0.350626387255743, \"component 2\": 1.0012779252240096, \"label\": \"Asia\"}, {\"continent\": \"Asia\", \"country\": \"Iran\", \"component 0\": -2.2430866645115715, \"component 1\": 0.6641418816126189, \"component 2\": -0.2753243349531614, \"label\": \"Asia\"}, {\"continent\": \"Asia\", \"country\": \"Iraq\", \"component 0\": -1.0580052057598153, \"component 1\": -0.3503945146153673, \"component 2\": -1.549973558652722, \"label\": \"Asia\"}, {\"continent\": \"Europe\", \"country\": \"Ireland\", \"component 0\": 0.5336963001246168, \"component 1\": -0.44856821009562026, \"component 2\": -1.8190945994870829, \"label\": \"Europe\"}, {\"continent\": \"Asia\", \"country\": \"Israel\", \"component 0\": -0.4335780208045745, \"component 1\": -1.3590787033978493, \"component 2\": -0.009822057888142492, \"label\": \"Asia\"}, {\"continent\": \"Europe\", \"country\": \"Italy\", \"component 0\": 0.5310378262342786, \"component 1\": -0.9881351985051319, \"component 2\": -0.655541982615566, \"label\": \"Europe\"}, {\"continent\": \"Asia\", \"country\": \"Japan\", \"component 0\": 0.924462089772237, \"component 1\": -1.8774672876612828, \"component 2\": 0.5624963727655652, \"label\": \"Asia\"}, {\"continent\": \"Asia\", \"country\": \"Kazakhstan\", \"component 0\": -0.47124257024265853, \"component 1\": -0.4409135299104399, \"component 2\": 2.2147867824958714, \"label\": \"Asia\"}, {\"continent\": \"Asia\", \"country\": \"Kuwait\", \"component 0\": -1.7748853192929999, \"component 1\": 0.09643076396918529, \"component 2\": -0.8635229264379634, \"label\": \"Asia\"}, {\"continent\": \"Europe\", \"country\": \"Latvia\", \"component 0\": 0.017284536269696393, \"component 1\": 1.1793376092784629, \"component 2\": -1.01145059790114, \"label\": \"Europe\"}, {\"continent\": \"Europe\", \"country\": \"Lithuania\", \"component 0\": -0.15035909811193554, \"component 1\": -0.289675432294321, \"component 2\": -1.516006048025827, \"label\": \"Europe\"}, {\"continent\": \"Europe\", \"country\": \"Luxembourg\", \"component 0\": 0.020479631335572096, \"component 1\": -0.9037156673027619, \"component 2\": -2.0016290985247958, \"label\": \"Europe\"}, {\"continent\": \"Asia\", \"country\": \"Malaysia\", \"component 0\": -0.9976183920795474, \"component 1\": 0.09023205134833989, \"component 2\": 0.3726947254485873, \"label\": \"Asia\"}, {\"continent\": \"North America\", \"country\": \"Mexico\", \"component 0\": -0.5927887521923516, \"component 1\": -0.5044827811882597, \"component 2\": -0.5464486342203355, \"label\": \"North America\"}, {\"continent\": \"Africa\", \"country\": \"Morocco\", \"component 0\": 0.9505858665860307, \"component 1\": -1.860164785391475, \"component 2\": -0.47433965213456003, \"label\": \"Africa\"}, {\"continent\": \"Europe\", \"country\": \"Netherlands\", \"component 0\": -0.36771617210642993, \"component 1\": -0.7007786740568543, \"component 2\": -0.7817802429951339, \"label\": \"Europe\"}, {\"continent\": \"Oceania\", \"country\": \"New Zealand\", \"component 0\": 1.1874655793567328, \"component 1\": 2.106798494577378, \"component 2\": -0.5611492015188752, \"label\": \"Oceania\"}, {\"continent\": \"Europe\", \"country\": \"North Macedonia\", \"component 0\": 0.20630503558060534, \"component 1\": -0.34293744791684094, \"component 2\": 0.9265787267421675, \"label\": \"Europe\"}, {\"continent\": \"Europe\", \"country\": \"Norway\", \"component 0\": 1.2610276286722373, \"component 1\": 3.4343463147349107, \"component 2\": 0.029857176579481805, \"label\": \"Europe\"}, {\"continent\": \"Asia\", \"country\": \"Oman\", \"component 0\": -2.0859852511976085, \"component 1\": 0.3506924216317645, \"component 2\": -0.5926625994332726, \"label\": \"Asia\"}, {\"continent\": \"Asia\", \"country\": \"Pakistan\", \"component 0\": -1.1124312900847941, \"component 1\": 0.5706273023800138, \"component 2\": 0.5735798414309788, \"label\": \"Asia\"}, {\"continent\": \"South America\", \"country\": \"Peru\", \"component 0\": 0.0763439658976277, \"component 1\": 1.0433687069166275, \"component 2\": -0.7441762552237495, \"label\": \"South America\"}, {\"continent\": \"Asia\", \"country\": \"Philippines\", \"component 0\": 0.8894342072409052, \"component 1\": -0.24689641490557723, \"component 2\": 0.5587667860124762, \"label\": \"Asia\"}, {\"continent\": \"Europe\", \"country\": \"Poland\", \"component 0\": 0.11371335920010937, \"component 1\": -0.585758627613918, \"component 2\": 1.2282640075958933, \"label\": \"Europe\"}, {\"continent\": \"Europe\", \"country\": \"Portugal\", \"component 0\": 1.3844655532695125, \"component 1\": -0.45247407141332713, \"component 2\": -1.7529969439179938, \"label\": \"Europe\"}, {\"continent\": \"Asia\", \"country\": \"Qatar\", \"component 0\": -2.5816881977308688, \"component 1\": 0.736370804947114, \"component 2\": -0.14577420703200458, \"label\": \"Asia\"}, {\"continent\": \"Europe\", \"country\": \"Romania\", \"component 0\": 0.2582783090770057, \"component 1\": -0.1778903725331497, \"component 2\": 0.2080623218294335, \"label\": \"Europe\"}, {\"continent\": \"Europe\", \"country\": \"Russia\", \"component 0\": -1.5975710877684568, \"component 1\": 0.7482393765483597, \"component 2\": 0.8398588569996267, \"label\": \"Europe\"}, {\"continent\": \"Asia\", \"country\": \"Saudi Arabia\", \"component 0\": -1.2169511229281034, \"component 1\": -0.34523765455731725, \"component 2\": -1.4084090472883262, \"label\": \"Asia\"}, {\"continent\": \"Asia\", \"country\": \"Singapore\", \"component 0\": -0.33198779523005806, \"component 1\": -0.9423859681500364, \"component 2\": -2.2075233740086264, \"label\": \"Asia\"}, {\"continent\": \"Europe\", \"country\": \"Slovakia\", \"component 0\": 0.19621358496738947, \"component 1\": 0.1971257555551794, \"component 2\": 1.6149297395661701, \"label\": \"Europe\"}, {\"continent\": \"Europe\", \"country\": \"Slovenia\", \"component 0\": 0.7777098608044045, \"component 1\": 0.14121326856372435, \"component 2\": 1.0184547599843958, \"label\": \"Europe\"}, {\"continent\": \"Africa\", \"country\": \"South Africa\", \"component 0\": 0.5767047177260647, \"component 1\": -1.4441788820576162, \"component 2\": 2.928789689408926, \"label\": \"Africa\"}, {\"continent\": \"Asia\", \"country\": \"South Korea\", \"component 0\": 0.2125591989785758, \"component 1\": -0.8402899582816389, \"component 2\": 0.9040241202682472, \"label\": \"Asia\"}, {\"continent\": \"Europe\", \"country\": \"Spain\", \"component 0\": 1.2887741609981174, \"component 1\": -1.3591702196892903, \"component 2\": -1.0402238383885472, \"label\": \"Europe\"}, {\"continent\": \"Asia\", \"country\": \"Sri Lanka\", \"component 0\": 0.7667849113239491, \"component 1\": -0.8498151503149691, \"component 2\": -0.9378616716015147, \"label\": \"Asia\"}, {\"continent\": \"Europe\", \"country\": \"Sweden\", \"component 0\": 2.7012133472869824, \"component 1\": 1.7632391683044504, \"component 2\": 0.6496430133001079, \"label\": \"Europe\"}, {\"continent\": \"Europe\", \"country\": \"Switzerland\", \"component 0\": 1.3627720955372442, \"component 1\": 0.6501185516707312, \"component 2\": 0.36092090701765106, \"label\": \"Europe\"}, {\"continent\": \"Asia\", \"country\": \"Taiwan\", \"component 0\": -0.00419782450734571, \"component 1\": -0.8782300182476005, \"component 2\": 1.0279478546885645, \"label\": \"Asia\"}, {\"continent\": \"Asia\", \"country\": \"Thailand\", \"component 0\": -0.49329577093929666, \"component 1\": -0.3635428818635365, \"component 2\": -0.4810303560431032, \"label\": \"Asia\"}, {\"continent\": \"North America\", \"country\": \"Trinidad and Tobago\", \"component 0\": -3.1541959689231347, \"component 1\": 1.157108991327318, \"component 2\": 0.396049298991475, \"label\": \"North America\"}, {\"continent\": \"Asia\", \"country\": \"Turkey\", \"component 0\": 0.4890794438407502, \"component 1\": -0.24278543765700328, \"component 2\": 0.517849531538741, \"label\": \"Asia\"}, {\"continent\": \"Asia\", \"country\": \"Turkmenistan\", \"component 0\": -2.784632362862854, \"component 1\": 0.8777726862265104, \"component 2\": 0.04176680205758187, \"label\": \"Asia\"}, {\"continent\": \"Europe\", \"country\": \"Ukraine\", \"component 0\": -0.1381753195659749, \"component 1\": -0.1980088987622128, \"component 2\": 2.6915173157901435, \"label\": \"Europe\"}, {\"continent\": \"Asia\", \"country\": \"United Arab Emirates\", \"component 0\": -1.7351268299856144, \"component 1\": -0.10457038663939866, \"component 2\": -0.5342744711637418, \"label\": \"Asia\"}, {\"continent\": \"Europe\", \"country\": \"United Kingdom\", \"component 0\": 0.6423607687028633, \"component 1\": -0.3262983670726269, \"component 2\": -0.8481142361091364, \"label\": \"Europe\"}, {\"continent\": \"North America\", \"country\": \"United States\", \"component 0\": -0.1444837390548066, \"component 1\": -0.46505417560384954, \"component 2\": 0.04667262341160971, \"label\": \"North America\"}, {\"continent\": \"Asia\", \"country\": \"Uzbekistan\", \"component 0\": -3.056247028677706, \"component 1\": 1.3756770657885558, \"component 2\": 0.7986303616593481, \"label\": \"Asia\"}, {\"continent\": \"South America\", \"country\": \"Venezuela\", \"component 0\": -0.996019688786759, \"component 1\": 1.683297211379526, \"component 2\": -0.24758555952977473, \"label\": \"South America\"}, {\"continent\": \"Asia\", \"country\": \"Vietnam\", \"component 0\": 0.4390024796272049, \"component 1\": -0.38879424564500764, \"component 2\": 1.9690284940800564, \"label\": \"Asia\"}], \"data-007e18150987616e356800b1c09ba319\": [{\"variable\": \"coal\", \"component 0\": 0.9810473468195315, \"component 1\": -2.444806693037838, \"component 2\": 2.16949471463357, \"label\": \"coal\"}, {\"variable\": \"oil\", \"component 0\": 0.7508967431060226, \"component 1\": -2.5897317036096648, \"component 2\": -2.1610220595796465, \"label\": \"oil\"}, {\"variable\": \"gas\", \"component 0\": -3.6945178682493744, \"component 1\": 1.1312356702200592, \"component 2\": -0.2836737246966918, \"label\": \"gas\"}, {\"variable\": \"nuclear\", \"component 0\": 1.3224378319696581, \"component 1\": -0.016057665709918918, \"component 2\": 1.1732979457889463, \"label\": \"nuclear\"}, {\"variable\": \"hydro\", \"component 0\": 1.8767473363399094, \"component 1\": 4.60442344456145, \"component 2\": -0.047958154960622085, \"label\": \"hydro\"}, {\"variable\": \"wind\", \"component 0\": 2.210556832010821, \"component 1\": -0.9984329958118455, \"component 2\": -1.0678166291076077, \"label\": \"wind\"}, {\"variable\": \"solar\", \"component 0\": 1.7714605849411447, \"component 1\": -3.6429558552734274, \"component 2\": 0.002962985265767931, \"label\": \"solar\"}, {\"variable\": \"other renewables\", \"component 0\": 2.6794967259231615, \"component 1\": 3.195676246064366, \"component 2\": -0.2463514751031972, \"label\": \"other renewables\"}]}}, {\"mode\": \"vega-lite\"});\n</script>",
            "text/plain": "alt.LayerChart(...)"
          },
          "metadata": {}
        }
      ],
      "execution_count": 16
    },
    {
      "id": "2a55e1f9-9496-4e56-81b6-973a9053e4c6",
      "cell_type": "code",
      "source": "pca.row_contributions_.head().style.format('{:.0%}')",
      "metadata": {
        "trusted": true
      },
      "outputs": [
        {
          "execution_count": 17,
          "output_type": "execute_result",
          "data": {
            "text/plain": "<pandas.io.formats.style.Styler at 0xbe51c30>",
            "text/html": "<style type=\"text/css\">\n</style>\n<table id=\"T_2531a\">\n  <thead>\n    <tr>\n      <th class=\"blank\" >&nbsp;</th>\n      <th class=\"index_name level0\" >component</th>\n      <th id=\"T_2531a_level0_col0\" class=\"col_heading level0 col0\" >0</th>\n      <th id=\"T_2531a_level0_col1\" class=\"col_heading level0 col1\" >1</th>\n      <th id=\"T_2531a_level0_col2\" class=\"col_heading level0 col2\" >2</th>\n    </tr>\n    <tr>\n      <th class=\"index_name level0\" >continent</th>\n      <th class=\"index_name level1\" >country</th>\n      <th class=\"blank col0\" >&nbsp;</th>\n      <th class=\"blank col1\" >&nbsp;</th>\n      <th class=\"blank col2\" >&nbsp;</th>\n    </tr>\n  </thead>\n  <tbody>\n    <tr>\n      <th id=\"T_2531a_level0_row0\" class=\"row_heading level0 row0\" >Africa</th>\n      <th id=\"T_2531a_level1_row0\" class=\"row_heading level1 row0\" >Algeria</th>\n      <td id=\"T_2531a_row0_col0\" class=\"data row0 col0\" >3%</td>\n      <td id=\"T_2531a_row0_col1\" class=\"data row0 col1\" >0%</td>\n      <td id=\"T_2531a_row0_col2\" class=\"data row0 col2\" >0%</td>\n    </tr>\n    <tr>\n      <th id=\"T_2531a_level0_row1\" class=\"row_heading level0 row1\" >South America</th>\n      <th id=\"T_2531a_level1_row1\" class=\"row_heading level1 row1\" >Argentina</th>\n      <td id=\"T_2531a_row1_col0\" class=\"data row1 col0\" >1%</td>\n      <td id=\"T_2531a_row1_col1\" class=\"data row1 col1\" >1%</td>\n      <td id=\"T_2531a_row1_col2\" class=\"data row1 col2\" >0%</td>\n    </tr>\n    <tr>\n      <th id=\"T_2531a_level0_row2\" class=\"row_heading level0 row2\" >Oceania</th>\n      <th id=\"T_2531a_level1_row2\" class=\"row_heading level1 row2\" >Australia</th>\n      <td id=\"T_2531a_row2_col0\" class=\"data row2 col0\" >0%</td>\n      <td id=\"T_2531a_row2_col1\" class=\"data row2 col1\" >2%</td>\n      <td id=\"T_2531a_row2_col2\" class=\"data row2 col2\" >0%</td>\n    </tr>\n    <tr>\n      <th id=\"T_2531a_level0_row3\" class=\"row_heading level0 row3\" >Europe</th>\n      <th id=\"T_2531a_level1_row3\" class=\"row_heading level1 row3\" >Austria</th>\n      <td id=\"T_2531a_row3_col0\" class=\"data row3 col0\" >0%</td>\n      <td id=\"T_2531a_row3_col1\" class=\"data row3 col1\" >1%</td>\n      <td id=\"T_2531a_row3_col2\" class=\"data row3 col2\" >0%</td>\n    </tr>\n    <tr>\n      <th id=\"T_2531a_level0_row4\" class=\"row_heading level0 row4\" >Asia</th>\n      <th id=\"T_2531a_level1_row4\" class=\"row_heading level1 row4\" >Azerbaijan</th>\n      <td id=\"T_2531a_row4_col0\" class=\"data row4 col0\" >3%</td>\n      <td id=\"T_2531a_row4_col1\" class=\"data row4 col1\" >0%</td>\n      <td id=\"T_2531a_row4_col2\" class=\"data row4 col2\" >0%</td>\n    </tr>\n  </tbody>\n</table>\n"
          },
          "metadata": {}
        }
      ],
      "execution_count": 17
    },
    {
      "id": "7f8d789f-18cd-43b1-800a-bb90dccb5433",
      "cell_type": "code",
      "source": "pca.column_contributions_.style.format('{:.0%}')",
      "metadata": {
        "trusted": true
      },
      "outputs": [
        {
          "execution_count": 18,
          "output_type": "execute_result",
          "data": {
            "text/plain": "<pandas.io.formats.style.Styler at 0xbf281b8>",
            "text/html": "<style type=\"text/css\">\n</style>\n<table id=\"T_5811a\">\n  <thead>\n    <tr>\n      <th class=\"index_name level0\" >component</th>\n      <th id=\"T_5811a_level0_col0\" class=\"col_heading level0 col0\" >0</th>\n      <th id=\"T_5811a_level0_col1\" class=\"col_heading level0 col1\" >1</th>\n      <th id=\"T_5811a_level0_col2\" class=\"col_heading level0 col2\" >2</th>\n    </tr>\n    <tr>\n      <th class=\"index_name level0\" >variable</th>\n      <th class=\"blank col0\" >&nbsp;</th>\n      <th class=\"blank col1\" >&nbsp;</th>\n      <th class=\"blank col2\" >&nbsp;</th>\n    </tr>\n  </thead>\n  <tbody>\n    <tr>\n      <th id=\"T_5811a_level0_row0\" class=\"row_heading level0 row0\" >coal</th>\n      <td id=\"T_5811a_row0_col0\" class=\"data row0 col0\" >3%</td>\n      <td id=\"T_5811a_row0_col1\" class=\"data row0 col1\" >10%</td>\n      <td id=\"T_5811a_row0_col2\" class=\"data row0 col2\" >39%</td>\n    </tr>\n    <tr>\n      <th id=\"T_5811a_level0_row1\" class=\"row_heading level0 row1\" >oil</th>\n      <td id=\"T_5811a_row1_col0\" class=\"data row1 col0\" >2%</td>\n      <td id=\"T_5811a_row1_col1\" class=\"data row1 col1\" >11%</td>\n      <td id=\"T_5811a_row1_col2\" class=\"data row1 col2\" >39%</td>\n    </tr>\n    <tr>\n      <th id=\"T_5811a_level0_row2\" class=\"row_heading level0 row2\" >gas</th>\n      <td id=\"T_5811a_row2_col0\" class=\"data row2 col0\" >38%</td>\n      <td id=\"T_5811a_row2_col1\" class=\"data row2 col1\" >2%</td>\n      <td id=\"T_5811a_row2_col2\" class=\"data row2 col2\" >1%</td>\n    </tr>\n    <tr>\n      <th id=\"T_5811a_level0_row3\" class=\"row_heading level0 row3\" >nuclear</th>\n      <td id=\"T_5811a_row3_col0\" class=\"data row3 col0\" >5%</td>\n      <td id=\"T_5811a_row3_col1\" class=\"data row3 col1\" >0%</td>\n      <td id=\"T_5811a_row3_col2\" class=\"data row3 col2\" >11%</td>\n    </tr>\n    <tr>\n      <th id=\"T_5811a_level0_row4\" class=\"row_heading level0 row4\" >hydro</th>\n      <td id=\"T_5811a_row4_col0\" class=\"data row4 col0\" >10%</td>\n      <td id=\"T_5811a_row4_col1\" class=\"data row4 col1\" >36%</td>\n      <td id=\"T_5811a_row4_col2\" class=\"data row4 col2\" >0%</td>\n    </tr>\n    <tr>\n      <th id=\"T_5811a_level0_row5\" class=\"row_heading level0 row5\" >wind</th>\n      <td id=\"T_5811a_row5_col0\" class=\"data row5 col0\" >14%</td>\n      <td id=\"T_5811a_row5_col1\" class=\"data row5 col1\" >2%</td>\n      <td id=\"T_5811a_row5_col2\" class=\"data row5 col2\" >9%</td>\n    </tr>\n    <tr>\n      <th id=\"T_5811a_level0_row6\" class=\"row_heading level0 row6\" >solar</th>\n      <td id=\"T_5811a_row6_col0\" class=\"data row6 col0\" >9%</td>\n      <td id=\"T_5811a_row6_col1\" class=\"data row6 col1\" >22%</td>\n      <td id=\"T_5811a_row6_col2\" class=\"data row6 col2\" >0%</td>\n    </tr>\n    <tr>\n      <th id=\"T_5811a_level0_row7\" class=\"row_heading level0 row7\" >other renewables</th>\n      <td id=\"T_5811a_row7_col0\" class=\"data row7 col0\" >20%</td>\n      <td id=\"T_5811a_row7_col1\" class=\"data row7 col1\" >17%</td>\n      <td id=\"T_5811a_row7_col2\" class=\"data row7 col2\" >1%</td>\n    </tr>\n  </tbody>\n</table>\n"
          },
          "metadata": {}
        }
      ],
      "execution_count": 18
    },
    {
      "id": "76738bc0-c405-43de-ba49-3e0953010840",
      "cell_type": "code",
      "source": "pca.row_cosine_similarities(dataset).head()",
      "metadata": {
        "trusted": true
      },
      "outputs": [
        {
          "execution_count": 19,
          "output_type": "execute_result",
          "data": {
            "text/plain": "component                        0         1         2\ncontinent     country                                 \nAfrica        Algeria     0.902764  0.027238  0.028445\nSouth America Argentina   0.626517  0.259936  0.061309\nOceania       Australia   0.008468  0.439999  0.057570\nEurope        Austria     0.236087  0.334470  0.089643\nAsia          Azerbaijan  0.868801  0.072377  0.024190",
            "text/html": "<div>\n<style scoped>\n    .dataframe tbody tr th:only-of-type {\n        vertical-align: middle;\n    }\n\n    .dataframe tbody tr th {\n        vertical-align: top;\n    }\n\n    .dataframe thead th {\n        text-align: right;\n    }\n</style>\n<table border=\"1\" class=\"dataframe\">\n  <thead>\n    <tr style=\"text-align: right;\">\n      <th></th>\n      <th>component</th>\n      <th>0</th>\n      <th>1</th>\n      <th>2</th>\n    </tr>\n    <tr>\n      <th>continent</th>\n      <th>country</th>\n      <th></th>\n      <th></th>\n      <th></th>\n    </tr>\n  </thead>\n  <tbody>\n    <tr>\n      <th>Africa</th>\n      <th>Algeria</th>\n      <td>0.902764</td>\n      <td>0.027238</td>\n      <td>0.028445</td>\n    </tr>\n    <tr>\n      <th>South America</th>\n      <th>Argentina</th>\n      <td>0.626517</td>\n      <td>0.259936</td>\n      <td>0.061309</td>\n    </tr>\n    <tr>\n      <th>Oceania</th>\n      <th>Australia</th>\n      <td>0.008468</td>\n      <td>0.439999</td>\n      <td>0.057570</td>\n    </tr>\n    <tr>\n      <th>Europe</th>\n      <th>Austria</th>\n      <td>0.236087</td>\n      <td>0.334470</td>\n      <td>0.089643</td>\n    </tr>\n    <tr>\n      <th>Asia</th>\n      <th>Azerbaijan</th>\n      <td>0.868801</td>\n      <td>0.072377</td>\n      <td>0.024190</td>\n    </tr>\n  </tbody>\n</table>\n</div>"
          },
          "metadata": {}
        }
      ],
      "execution_count": 19
    },
    {
      "id": "dae75c15-ce60-4e19-b088-fa5ef6d966c4",
      "cell_type": "code",
      "source": "pca.column_cosine_similarities_",
      "metadata": {
        "trusted": true
      },
      "outputs": [
        {
          "execution_count": 20,
          "output_type": "execute_result",
          "data": {
            "text/plain": "component                0         1         2\nvariable                                      \ncoal              0.052994  0.156400  0.548707\noil               0.031046  0.175492  0.544430\ngas               0.751563  0.033485  0.009381\nnuclear           0.096294  0.000007  0.160487\nhydro             0.193937  0.554750  0.000268\nwind              0.269062  0.026085  0.132928\nsolar             0.172788  0.347260  0.000001\nother renewables  0.395327  0.267222  0.007075",
            "text/html": "<div>\n<style scoped>\n    .dataframe tbody tr th:only-of-type {\n        vertical-align: middle;\n    }\n\n    .dataframe tbody tr th {\n        vertical-align: top;\n    }\n\n    .dataframe thead th {\n        text-align: right;\n    }\n</style>\n<table border=\"1\" class=\"dataframe\">\n  <thead>\n    <tr style=\"text-align: right;\">\n      <th>component</th>\n      <th>0</th>\n      <th>1</th>\n      <th>2</th>\n    </tr>\n    <tr>\n      <th>variable</th>\n      <th></th>\n      <th></th>\n      <th></th>\n    </tr>\n  </thead>\n  <tbody>\n    <tr>\n      <th>coal</th>\n      <td>0.052994</td>\n      <td>0.156400</td>\n      <td>0.548707</td>\n    </tr>\n    <tr>\n      <th>oil</th>\n      <td>0.031046</td>\n      <td>0.175492</td>\n      <td>0.544430</td>\n    </tr>\n    <tr>\n      <th>gas</th>\n      <td>0.751563</td>\n      <td>0.033485</td>\n      <td>0.009381</td>\n    </tr>\n    <tr>\n      <th>nuclear</th>\n      <td>0.096294</td>\n      <td>0.000007</td>\n      <td>0.160487</td>\n    </tr>\n    <tr>\n      <th>hydro</th>\n      <td>0.193937</td>\n      <td>0.554750</td>\n      <td>0.000268</td>\n    </tr>\n    <tr>\n      <th>wind</th>\n      <td>0.269062</td>\n      <td>0.026085</td>\n      <td>0.132928</td>\n    </tr>\n    <tr>\n      <th>solar</th>\n      <td>0.172788</td>\n      <td>0.347260</td>\n      <td>0.000001</td>\n    </tr>\n    <tr>\n      <th>other renewables</th>\n      <td>0.395327</td>\n      <td>0.267222</td>\n      <td>0.007075</td>\n    </tr>\n  </tbody>\n</table>\n</div>"
          },
          "metadata": {}
        }
      ],
      "execution_count": 20
    },
    {
      "id": "0ddd2a7d-1974-49b6-bec2-0f4cc07b5a4e",
      "cell_type": "code",
      "source": "pca.column_correlations",
      "metadata": {
        "trusted": true
      },
      "outputs": [
        {
          "execution_count": 21,
          "output_type": "execute_result",
          "data": {
            "text/plain": "component                0         1         2\nvariable                                      \ncoal              0.230205 -0.395474  0.740748\noil               0.176200 -0.418917 -0.737855\ngas              -0.866927  0.182990 -0.096857\nnuclear           0.310313 -0.002598  0.400608\nhydro             0.440383  0.744815 -0.016375\nwind              0.518712 -0.161507 -0.364593\nsolar             0.415677 -0.589288  0.001012\nother renewables  0.628750  0.516935 -0.084114",
            "text/html": "<div>\n<style scoped>\n    .dataframe tbody tr th:only-of-type {\n        vertical-align: middle;\n    }\n\n    .dataframe tbody tr th {\n        vertical-align: top;\n    }\n\n    .dataframe thead th {\n        text-align: right;\n    }\n</style>\n<table border=\"1\" class=\"dataframe\">\n  <thead>\n    <tr style=\"text-align: right;\">\n      <th>component</th>\n      <th>0</th>\n      <th>1</th>\n      <th>2</th>\n    </tr>\n    <tr>\n      <th>variable</th>\n      <th></th>\n      <th></th>\n      <th></th>\n    </tr>\n  </thead>\n  <tbody>\n    <tr>\n      <th>coal</th>\n      <td>0.230205</td>\n      <td>-0.395474</td>\n      <td>0.740748</td>\n    </tr>\n    <tr>\n      <th>oil</th>\n      <td>0.176200</td>\n      <td>-0.418917</td>\n      <td>-0.737855</td>\n    </tr>\n    <tr>\n      <th>gas</th>\n      <td>-0.866927</td>\n      <td>0.182990</td>\n      <td>-0.096857</td>\n    </tr>\n    <tr>\n      <th>nuclear</th>\n      <td>0.310313</td>\n      <td>-0.002598</td>\n      <td>0.400608</td>\n    </tr>\n    <tr>\n      <th>hydro</th>\n      <td>0.440383</td>\n      <td>0.744815</td>\n      <td>-0.016375</td>\n    </tr>\n    <tr>\n      <th>wind</th>\n      <td>0.518712</td>\n      <td>-0.161507</td>\n      <td>-0.364593</td>\n    </tr>\n    <tr>\n      <th>solar</th>\n      <td>0.415677</td>\n      <td>-0.589288</td>\n      <td>0.001012</td>\n    </tr>\n    <tr>\n      <th>other renewables</th>\n      <td>0.628750</td>\n      <td>0.516935</td>\n      <td>-0.084114</td>\n    </tr>\n  </tbody>\n</table>\n</div>"
          },
          "metadata": {}
        }
      ],
      "execution_count": 21
    },
    {
      "id": "703e9bd7-c044-4a4d-903a-ddbf36a95c11",
      "cell_type": "code",
      "source": "(pca.column_correlations ** 2).equals(pca.column_cosine_similarities_)",
      "metadata": {
        "trusted": true
      },
      "outputs": [
        {
          "execution_count": 22,
          "output_type": "execute_result",
          "data": {
            "text/plain": "True"
          },
          "metadata": {}
        }
      ],
      "execution_count": 22
    },
    {
      "id": "c0506699-f333-4c6a-8ec6-5f705a80dcb6",
      "cell_type": "code",
      "source": "reconstructed = pca.inverse_transform(pca.transform(dataset))\nreconstructed.head()",
      "metadata": {
        "trusted": true
      },
      "outputs": [
        {
          "execution_count": 23,
          "output_type": "execute_result",
          "data": {
            "text/plain": "                                 0         1         2         3         4  \\\ncontinent     country                                                        \nAfrica        Algeria     0.024204  0.369866  0.599244 -0.007082  0.024826   \nSouth America Argentina   0.027773  0.366342  0.487562  0.008596  0.090082   \nOceania       Australia   0.287372  0.425348  0.208594  0.056641 -0.018484   \nEurope        Austria     0.060875  0.410393  0.219553  0.040122  0.183231   \nAsia          Azerbaijan  0.013098  0.354083  0.606928 -0.006558  0.042620   \n\n                                 5         6         7  \ncontinent     country                                   \nAfrica        Algeria    -0.003249  0.000650 -0.008460  \nSouth America Argentina   0.006963  0.001391  0.011292  \nOceania       Australia   0.025867  0.015104 -0.000441  \nEurope        Austria     0.034237  0.006167  0.045423  \nAsia          Azerbaijan -0.004640 -0.000439 -0.005092  ",
            "text/html": "<div>\n<style scoped>\n    .dataframe tbody tr th:only-of-type {\n        vertical-align: middle;\n    }\n\n    .dataframe tbody tr th {\n        vertical-align: top;\n    }\n\n    .dataframe thead th {\n        text-align: right;\n    }\n</style>\n<table border=\"1\" class=\"dataframe\">\n  <thead>\n    <tr style=\"text-align: right;\">\n      <th></th>\n      <th></th>\n      <th>0</th>\n      <th>1</th>\n      <th>2</th>\n      <th>3</th>\n      <th>4</th>\n      <th>5</th>\n      <th>6</th>\n      <th>7</th>\n    </tr>\n    <tr>\n      <th>continent</th>\n      <th>country</th>\n      <th></th>\n      <th></th>\n      <th></th>\n      <th></th>\n      <th></th>\n      <th></th>\n      <th></th>\n      <th></th>\n    </tr>\n  </thead>\n  <tbody>\n    <tr>\n      <th>Africa</th>\n      <th>Algeria</th>\n      <td>0.024204</td>\n      <td>0.369866</td>\n      <td>0.599244</td>\n      <td>-0.007082</td>\n      <td>0.024826</td>\n      <td>-0.003249</td>\n      <td>0.000650</td>\n      <td>-0.008460</td>\n    </tr>\n    <tr>\n      <th>South America</th>\n      <th>Argentina</th>\n      <td>0.027773</td>\n      <td>0.366342</td>\n      <td>0.487562</td>\n      <td>0.008596</td>\n      <td>0.090082</td>\n      <td>0.006963</td>\n      <td>0.001391</td>\n      <td>0.011292</td>\n    </tr>\n    <tr>\n      <th>Oceania</th>\n      <th>Australia</th>\n      <td>0.287372</td>\n      <td>0.425348</td>\n      <td>0.208594</td>\n      <td>0.056641</td>\n      <td>-0.018484</td>\n      <td>0.025867</td>\n      <td>0.015104</td>\n      <td>-0.000441</td>\n    </tr>\n    <tr>\n      <th>Europe</th>\n      <th>Austria</th>\n      <td>0.060875</td>\n      <td>0.410393</td>\n      <td>0.219553</td>\n      <td>0.040122</td>\n      <td>0.183231</td>\n      <td>0.034237</td>\n      <td>0.006167</td>\n      <td>0.045423</td>\n    </tr>\n    <tr>\n      <th>Asia</th>\n      <th>Azerbaijan</th>\n      <td>0.013098</td>\n      <td>0.354083</td>\n      <td>0.606928</td>\n      <td>-0.006558</td>\n      <td>0.042620</td>\n      <td>-0.004640</td>\n      <td>-0.000439</td>\n      <td>-0.005092</td>\n    </tr>\n  </tbody>\n</table>\n</div>"
          },
          "metadata": {}
        }
      ],
      "execution_count": 23
    },
    {
      "id": "b542c49e-abd2-420b-a350-09fd86a219a0",
      "cell_type": "code",
      "source": "import numpy as np\n\nnp.linalg.norm(reconstructed.values - dataset.values, ord=2)",
      "metadata": {
        "trusted": true
      },
      "outputs": [
        {
          "execution_count": 24,
          "output_type": "execute_result",
          "data": {
            "text/plain": "np.float64(1.192715958987243)"
          },
          "metadata": {}
        }
      ],
      "execution_count": 24
    },
    {
      "id": "4ed5b3bf-ac7f-4be4-afb6-c6a222d812ad",
      "cell_type": "code",
      "source": "active = dataset.query(\"continent != 'North America'\")\npca = prince.PCA().fit(active)\npca.transform(dataset).query(\"continent == 'North America'\")",
      "metadata": {
        "trusted": true
      },
      "outputs": [
        {
          "execution_count": 26,
          "output_type": "execute_result",
          "data": {
            "text/plain": "component                                 0         1\ncontinent     country                                \nNorth America Canada               0.009864  1.332859\n              Mexico              -0.695023 -0.402230\n              Trinidad and Tobago -3.072833  1.393067\n              United States       -0.226122 -0.433260",
            "text/html": "<div>\n<style scoped>\n    .dataframe tbody tr th:only-of-type {\n        vertical-align: middle;\n    }\n\n    .dataframe tbody tr th {\n        vertical-align: top;\n    }\n\n    .dataframe thead th {\n        text-align: right;\n    }\n</style>\n<table border=\"1\" class=\"dataframe\">\n  <thead>\n    <tr style=\"text-align: right;\">\n      <th></th>\n      <th>component</th>\n      <th>0</th>\n      <th>1</th>\n    </tr>\n    <tr>\n      <th>continent</th>\n      <th>country</th>\n      <th></th>\n      <th></th>\n    </tr>\n  </thead>\n  <tbody>\n    <tr>\n      <th rowspan=\"4\" valign=\"top\">North America</th>\n      <th>Canada</th>\n      <td>0.009864</td>\n      <td>1.332859</td>\n    </tr>\n    <tr>\n      <th>Mexico</th>\n      <td>-0.695023</td>\n      <td>-0.402230</td>\n    </tr>\n    <tr>\n      <th>Trinidad and Tobago</th>\n      <td>-3.072833</td>\n      <td>1.393067</td>\n    </tr>\n    <tr>\n      <th>United States</th>\n      <td>-0.226122</td>\n      <td>-0.433260</td>\n    </tr>\n  </tbody>\n</table>\n</div>"
          },
          "metadata": {}
        }
      ],
      "execution_count": 26
    },
    {
      "id": "240807ee-4850-4b3a-bfee-69aee4b6837b",
      "cell_type": "code",
      "source": "pca = prince.PCA().fit(dataset, supplementary_columns=['hydro', 'wind', 'solar'])\npca.column_correlations",
      "metadata": {
        "trusted": true
      },
      "outputs": [
        {
          "execution_count": 27,
          "output_type": "execute_result",
          "data": {
            "text/plain": "component                0         1\nvariable                            \ncoal              0.621633 -0.380008\noil               0.048966  0.948650\ngas              -0.916078 -0.331546\nnuclear           0.384458 -0.401675\nother renewables  0.467116  0.086656\nhydro             2.192240  0.329911\nwind              1.739201  1.637625\nsolar             2.233130  0.677610",
            "text/html": "<div>\n<style scoped>\n    .dataframe tbody tr th:only-of-type {\n        vertical-align: middle;\n    }\n\n    .dataframe tbody tr th {\n        vertical-align: top;\n    }\n\n    .dataframe thead th {\n        text-align: right;\n    }\n</style>\n<table border=\"1\" class=\"dataframe\">\n  <thead>\n    <tr style=\"text-align: right;\">\n      <th>component</th>\n      <th>0</th>\n      <th>1</th>\n    </tr>\n    <tr>\n      <th>variable</th>\n      <th></th>\n      <th></th>\n    </tr>\n  </thead>\n  <tbody>\n    <tr>\n      <th>coal</th>\n      <td>0.621633</td>\n      <td>-0.380008</td>\n    </tr>\n    <tr>\n      <th>oil</th>\n      <td>0.048966</td>\n      <td>0.948650</td>\n    </tr>\n    <tr>\n      <th>gas</th>\n      <td>-0.916078</td>\n      <td>-0.331546</td>\n    </tr>\n    <tr>\n      <th>nuclear</th>\n      <td>0.384458</td>\n      <td>-0.401675</td>\n    </tr>\n    <tr>\n      <th>other renewables</th>\n      <td>0.467116</td>\n      <td>0.086656</td>\n    </tr>\n    <tr>\n      <th>hydro</th>\n      <td>2.192240</td>\n      <td>0.329911</td>\n    </tr>\n    <tr>\n      <th>wind</th>\n      <td>1.739201</td>\n      <td>1.637625</td>\n    </tr>\n    <tr>\n      <th>solar</th>\n      <td>2.233130</td>\n      <td>0.677610</td>\n    </tr>\n  </tbody>\n</table>\n</div>"
          },
          "metadata": {}
        }
      ],
      "execution_count": 27
    },
    {
      "id": "e41871ba-dc1d-4362-a9e5-8d8a94288d96",
      "cell_type": "code",
      "source": "pca = prince.PCA().fit(active, supplementary_columns=['hydro', 'wind', 'solar'])",
      "metadata": {
        "trusted": true
      },
      "outputs": [],
      "execution_count": 28
    },
    {
      "id": "3cc805e2-c2b2-4c41-9e14-6a8c495a7d7f",
      "cell_type": "code",
      "source": "row_weights = np.ones(active.shape[0])\nrow_weights[active.index.get_level_values('continent') == 'Europe'] = 2\n\ncolumn_weights = np.ones(active.shape[1])\ncolumn_weights[active.columns.isin(['hydro', 'wind', 'solar', 'other renewables'])] = 2\n\npca = prince.PCA().fit(\n    active,\n    sample_weight=row_weights,\n    column_weight=column_weights\n)\npca.transform(dataset).head()",
      "metadata": {
        "trusted": true
      },
      "outputs": [
        {
          "execution_count": 29,
          "output_type": "execute_result",
          "data": {
            "text/plain": "component                        0         1\ncontinent     country                       \nAfrica        Algeria    -1.512601 -1.806884\nSouth America Argentina  -0.403372 -1.475517\nOceania       Australia  -1.441339  1.394480\nEurope        Austria     1.521697  0.040025\nAsia          Azerbaijan -1.272744 -1.980454",
            "text/html": "<div>\n<style scoped>\n    .dataframe tbody tr th:only-of-type {\n        vertical-align: middle;\n    }\n\n    .dataframe tbody tr th {\n        vertical-align: top;\n    }\n\n    .dataframe thead th {\n        text-align: right;\n    }\n</style>\n<table border=\"1\" class=\"dataframe\">\n  <thead>\n    <tr style=\"text-align: right;\">\n      <th></th>\n      <th>component</th>\n      <th>0</th>\n      <th>1</th>\n    </tr>\n    <tr>\n      <th>continent</th>\n      <th>country</th>\n      <th></th>\n      <th></th>\n    </tr>\n  </thead>\n  <tbody>\n    <tr>\n      <th>Africa</th>\n      <th>Algeria</th>\n      <td>-1.512601</td>\n      <td>-1.806884</td>\n    </tr>\n    <tr>\n      <th>South America</th>\n      <th>Argentina</th>\n      <td>-0.403372</td>\n      <td>-1.475517</td>\n    </tr>\n    <tr>\n      <th>Oceania</th>\n      <th>Australia</th>\n      <td>-1.441339</td>\n      <td>1.394480</td>\n    </tr>\n    <tr>\n      <th>Europe</th>\n      <th>Austria</th>\n      <td>1.521697</td>\n      <td>0.040025</td>\n    </tr>\n    <tr>\n      <th>Asia</th>\n      <th>Azerbaijan</th>\n      <td>-1.272744</td>\n      <td>-1.980454</td>\n    </tr>\n  </tbody>\n</table>\n</div>"
          },
          "metadata": {}
        }
      ],
      "execution_count": 29
    }
  ]
}